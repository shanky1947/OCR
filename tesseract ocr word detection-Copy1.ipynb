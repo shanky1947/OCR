{
 "cells": [
  {
   "cell_type": "code",
   "execution_count": 1,
   "metadata": {},
   "outputs": [],
   "source": [
    "import cv2\n",
    "import numpy as np\n",
    "\n",
    "img = cv2.imread('C://Users/shash/Downloads/my_image.jpeg')\n",
    "\n",
    "# get grayscale image\n",
    "def get_grayscale(image):\n",
    "    return cv2.cvtColor(image, cv2.COLOR_BGR2GRAY)\n",
    "\n",
    "# noise removal\n",
    "def remove_noise(image):\n",
    "    return cv2.medianBlur(image,5)\n",
    " \n",
    "#thresholding\n",
    "def thresholding(image):\n",
    "    return cv2.threshold(image, 0, 255, cv2.THRESH_BINARY + cv2.THRESH_OTSU)[1]\n",
    "\n",
    "#dilation\n",
    "def dilate(image):\n",
    "    kernel = np.ones((5,5),np.uint8)\n",
    "    return cv2.dilate(image, kernel, iterations = 1)\n",
    "    \n",
    "#erosion\n",
    "def erode(image):\n",
    "    kernel = np.ones((5,5),np.uint8)\n",
    "    return cv2.erode(image, kernel, iterations = 1)\n",
    "\n",
    "#opening - erosion followed by dilation\n",
    "def opening(image):\n",
    "    kernel = np.ones((5,5),np.uint8)\n",
    "    return cv2.morphologyEx(image, cv2.MORPH_OPEN, kernel)\n",
    "\n",
    "#canny edge detection\n",
    "def canny(image):\n",
    "    return cv2.Canny(image, 100, 200)\n",
    "\n",
    "#skew correction\n",
    "def deskew(image):\n",
    "    coords = np.column_stack(np.where(image > 0))\n",
    "    angle = cv2.minAreaRect(coords)[-1]\n",
    "    if angle < -45:\n",
    "        angle = -(90 + angle)\n",
    "    else:\n",
    "        angle = -angle\n",
    "    (h, w) = image.shape[:2]\n",
    "    center = (w // 2, h // 2)\n",
    "    M = cv2.getRotationMatrix2D(center, angle, 1.0)\n",
    "    rotated = cv2.warpAffine(image, M, (w, h), flags=cv2.INTER_CUBIC, borderMode=cv2.BORDER_REPLICATE)\n",
    "    return rotated\n",
    "\n",
    "#template matching\n",
    "def match_template(image, template):\n",
    "    return cv2.matchTemplate(image, template, cv2.TM_CCOEFF_NORMED) \n",
    "\n",
    "image = cv2.imread('C://Users/shash/Downloads/my_image.jpeg')\n",
    "\n",
    "gray = get_grayscale(image)\n",
    "thresh = thresholding(gray)\n",
    "opening = opening(gray)\n",
    "canny = canny(gray)"
   ]
  },
  {
   "cell_type": "code",
   "execution_count": 19,
   "metadata": {},
   "outputs": [
    {
     "name": "stdout",
     "output_type": "stream",
     "text": [
      "Single Field Analysis Eye: Lett\n",
      "Name: JAYAKUMAR R DOB: 01-01-1981\n",
      "ID: 413236\n",
      "Central 24-2 Threshold Test\n",
      "Fixation Monitor: Gaze/Blind Spot Stimulus: Il, White Pupil Diameter: 4.0 mm Date; 09-05-2018\n",
      "Fixation Target: Central Background: 31.5 ASB Visual Acuity: 6/6 Time; 12:30 PM\n",
      "Fixation Losses: 0/15 Strategy: SITA-Standard AX: -3.75DS DC X Age: 37\n",
      "False POS Errors: 0%\n",
      "False NEG Errors: 6%\n",
      "Test Duration: 05:28\n",
      "Fovea:334B :: thaheheh | dedsheh\n",
      "Bute a ,SSEREE PENSEEE\n",
      "ee ae oe\n",
      "sn aalenas a |e\n",
      "2 © b a|x das 2 ae os a SRE\n",
      "a oz nila na a HER Ec\n",
      "x ze ela a MEFbbcoos [ae gH”\n",
      "7 ata a “EEE: HEE\n",
      "sa osfe 7 ales\n",
      "aasla27 oral o-s\n",
      "savals23 220241 0-1-3 our\n",
      "8-43 8 “4 “6 “tt eee Within normal limits\n",
      "re re 1 20ke233-\n",
      "“2a ebs 387 Pr VFI 96%\n",
      "0 0 O}3 “5 -4 22 2/0 -3 2\n",
      "“4-2-6 -6 1 O)-8 3 MO = -3.73dB P< 1%\n",
      "PSD 2.0908 P< 5%\n",
      "Total Deviation Pattern Deviation\n",
      "sole sole\n",
      "tel g Lele\n",
      "rs Be eal aed\n",
      "ge cule ees : woe\n",
      "genes TTT a\n",
      "noo is PS . cof Bee\n",
      "LP gs + ales\n",
      "not [ee 2 ¢5% oF Aravind Eye Hospital\n",
      "262% Thavalakuppam\n",
      "861% Pondicherry\n",
      "wcos%\n",
      "ooo\n",
      "AMARA\n",
      "© 2007 Carl Zeies Meditec\n"
     ]
    }
   ],
   "source": [
    "import cv2 \n",
    "import pytesseract\n",
    "\n",
    "#img = cv2.imread('C://Users/shash/Downloads/my_image1.jpeg')\n",
    "\n",
    "# Adding custom options\n",
    "custom_config = r'--oem 3 --psm 6'\n",
    "k=pytesseract.image_to_string(img, config=custom_config)\n",
    "print(k)"
   ]
  },
  {
   "cell_type": "code",
   "execution_count": null,
   "metadata": {},
   "outputs": [],
   "source": [
    "# Writing to an excel  \n",
    "# sheet using Python \n",
    "import xlwt \n",
    "from xlwt import Workbook \n",
    "  \n",
    "# Workbook is created \n",
    "wb = Workbook() \n",
    "  \n",
    "# add_sheet is used to create sheet. \n",
    "sheet1 = wb.add_sheet('Sheet 1') \n",
    "\n",
    "for i in range(0,len(ll)):\n",
    "    sheet1.write(i, 0, ll[i]) \n",
    "\n",
    "wb.save('xlwt example.xls') "
   ]
  },
  {
   "cell_type": "code",
   "execution_count": 21,
   "metadata": {},
   "outputs": [
    {
     "name": "stdout",
     "output_type": "stream",
     "text": [
      "['Single Field Analysis Eye: Lett', 'Name: JAYAKUMAR R DOB: 01-01-1981', 'ID: 413236', 'Central 24-2 Threshold Test', 'Fixation Monitor: Gaze/Blind Spot Stimulus: Il, White Pupil Diameter: 4.0 mm Date; 09-05-2018', 'Fixation Target: Central Background: 31.5 ASB Visual Acuity: 6/6 Time; 12:30 PM', 'Fixation Losses: 0/15 Strategy: SITA-Standard AX: -3.75DS DC X Age: 37', 'False POS Errors: 0%', 'False NEG Errors: 6%', 'Test Duration: 05:28', 'Fovea:334B :: thaheheh | dedsheh', 'Bute a ,SSEREE PENSEEE', 'ee ae oe', 'sn aalenas a |e', '2 © b a|x das 2 ae os a SRE', 'a oz nila na a HER Ec', 'x ze ela a MEFbbcoos [ae gH”', '7 ata a “EEE: HEE', 'sa osfe 7 ales', 'aasla27 oral o-s', 'savals23 220241 0-1-3 our', '8-43 8 “4 “6 “tt eee Within normal limits', 're re 1 20ke233-', '“2a ebs 387 Pr VFI 96%', '0 0 O}3 “5 -4 22 2/0 -3 2', '“4-2-6 -6 1 O)-8 3 MO = -3.73dB P< 1%', 'PSD 2.0908 P< 5%', 'Total Deviation Pattern Deviation', 'sole sole', 'tel g Lele', 'rs Be eal aed', 'ge cule ees : woe', 'genes TTT a', 'noo is PS . cof Bee', 'LP gs + ales', 'not [ee 2 ¢5% oF Aravind Eye Hospital', '262% Thavalakuppam', '861% Pondicherry', 'wcos%', 'ooo', 'AMARA']\n"
     ]
    }
   ],
   "source": [
    "import cv2 \n",
    "import pytesseract\n",
    "\n",
    "#img = cv2.imread('C://Users/shash/Downloads/my_image1.jpeg')\n",
    "\n",
    "# Adding custom options\n",
    "custom_config = r'--oem 3 --psm 6'\n",
    "k=pytesseract.image_to_string(img, config=custom_config)\n",
    "j=0;\n",
    "l=[]\n",
    "for i in range(0,len(k)):\n",
    "    if(k[i]=='\\n'):\n",
    "        if(j==0):\n",
    "            l.append(k[j:i])\n",
    "            j=i;\n",
    "        else:\n",
    "            l.append(k[j+1:i])\n",
    "            j=i\n",
    "print(l)"
   ]
  },
  {
   "cell_type": "code",
   "execution_count": 32,
   "metadata": {},
   "outputs": [
    {
     "name": "stdout",
     "output_type": "stream",
     "text": [
      "['Single Field Analysis Eye', ' Lett', 'Name', ' JAYAKUMAR R DOB: 01-01-1981', ': JAYAKUMAR R DOB', ' 01-01-1981', 'ID', ' 413236', 'Fixation Monitor', ' Gaze/Blind Spot Stimulus: Il, White Pupil Diameter: 4.0 mm Date; 09-05-2018', ': Gaze/Blind Spot Stimulus', ' Il, White Pupil Diameter: 4.0 mm Date; 09-05-2018', ': Il, White Pupil Diameter', ' 4.0 mm Date; 09-05-2018', 'Fixation Target', ' Central Background: 31.5 ASB Visual Acuity: 6/6 Time; 12:30 PM', ': Central Background', ' 31.5 ASB Visual Acuity: 6/6 Time; 12:30 PM', ': 31.5 ASB Visual Acuity', ' 6/6 Time; 12:30 PM', ': 6/6 Time; 12', '30 PM', 'Fixation Losses', ' 0/15 Strategy: SITA-Standard AX: -3.75DS DC X Age: 37', ': 0/15 Strategy', ' SITA-Standard AX: -3.75DS DC X Age: 37', ': SITA-Standard AX', ' -3.75DS DC X Age: 37', ': -3.75DS DC X Age', ' 37', 'False POS Errors', ' 0%', 'False NEG Errors', ' 6%', 'Test Duration', ' 05:28', ': 05', '28', 'Fovea', '334B :: thaheheh | dedsheh', ':334B ', ': thaheheh | dedsheh', ':', ' thaheheh | dedsheh', '7 ata a “EEE', ' HEE', 'ge cule ees ', ' woe']\n"
     ]
    }
   ],
   "source": [
    "ll=[]\n",
    "j=0;\n",
    "for i in range(0,len(l)):\n",
    "    j=0;\n",
    "    r=len(l[i])\n",
    "    for d in range(0,r):\n",
    "        if(l[i][d]==':'):\n",
    "            ll.append(l[i][j:d])\n",
    "            j=d\n",
    "            ll.append(l[i][j+1:r])\n",
    "            \n",
    "print(ll)"
   ]
  },
  {
   "cell_type": "code",
   "execution_count": 35,
   "metadata": {},
   "outputs": [],
   "source": [
    "# Writing to an excel  \n",
    "# sheet using Python \n",
    "import xlwt \n",
    "from xlwt import Workbook \n",
    "  \n",
    "# Workbook is created \n",
    "wb = Workbook() \n",
    "  \n",
    "# add_sheet is used to create sheet. \n",
    "sheet1 = wb.add_sheet('Sheet 1') \n",
    "\n",
    "for i in range(0,len(ll)):\n",
    "    sheet1.write(i, 0, ll[i]) \n",
    "\n",
    "wb.save('xlwt example.xls') "
   ]
  },
  {
   "cell_type": "code",
   "execution_count": 4,
   "metadata": {},
   "outputs": [
    {
     "data": {
      "text/plain": [
       "32"
      ]
     },
     "execution_count": 4,
     "metadata": {},
     "output_type": "execute_result"
    }
   ],
   "source": [
    "#complete boxes\n",
    "\n",
    "import pytesseract\n",
    "from pytesseract import Output\n",
    "import cv2\n",
    "#img = cv2.imread('C://Users/shash/Downloads/my_image1.jpeg')\n",
    "\n",
    "d = pytesseract.image_to_data(img, output_type=Output.DICT)\n",
    "n_boxes = len(d['level'])\n",
    "for i in range(n_boxes):\n",
    "    (x, y, w, h) = (d['left'][i], d['top'][i], d['width'][i], d['height'][i])\n",
    "    cv2.rectangle(img, (x, y), (x + w, y + h), (0, 255, 0), 2)\n",
    "\n",
    "cv2.imshow('img', img)\n",
    "cv2.waitKey(0)"
   ]
  },
  {
   "cell_type": "code",
   "execution_count": null,
   "metadata": {},
   "outputs": [],
   "source": []
  },
  {
   "cell_type": "code",
   "execution_count": null,
   "metadata": {},
   "outputs": [],
   "source": []
  },
  {
   "cell_type": "code",
   "execution_count": 5,
   "metadata": {},
   "outputs": [
    {
     "name": "stdout",
     "output_type": "stream",
     "text": [
      "dict_keys(['level', 'page_num', 'block_num', 'par_num', 'line_num', 'word_num', 'left', 'top', 'width', 'height', 'conf', 'text'])\n"
     ]
    }
   ],
   "source": [
    "import cv2\n",
    "import pytesseract\n",
    "from pytesseract import Output\n",
    "\n",
    "#img = cv2.imread('C://Users/shash/Downloads/my_image1.jpeg')\n",
    "\n",
    "d = pytesseract.image_to_data(img, output_type=Output.DICT)\n",
    "print(d.keys())"
   ]
  },
  {
   "cell_type": "code",
   "execution_count": 4,
   "metadata": {},
   "outputs": [
    {
     "data": {
      "text/plain": [
       "32"
      ]
     },
     "execution_count": 4,
     "metadata": {},
     "output_type": "execute_result"
    }
   ],
   "source": [
    "n_boxes = len(d['text'])\n",
    "for i in range(n_boxes):\n",
    "    if int(d['conf'][i]) > 60:\n",
    "        (x, y, w, h) = (d['left'][i], d['top'][i], d['width'][i], d['height'][i])\n",
    "        img = cv2.rectangle(img, (x, y), (x + w, y + h), (0, 255, 0), 2)\n",
    "\n",
    "cv2.imshow('img', img)\n",
    "cv2.waitKey(0)"
   ]
  },
  {
   "cell_type": "code",
   "execution_count": null,
   "metadata": {},
   "outputs": [],
   "source": []
  },
  {
   "cell_type": "code",
   "execution_count": null,
   "metadata": {},
   "outputs": [],
   "source": []
  },
  {
   "cell_type": "code",
   "execution_count": null,
   "metadata": {},
   "outputs": [],
   "source": []
  },
  {
   "cell_type": "code",
   "execution_count": 7,
   "metadata": {},
   "outputs": [
    {
     "ename": "FileNotFoundError",
     "evalue": "[Errno 2] No such file or directory: 'C:\\\\Users\\\\shash\\\\AppData\\\\Local\\\\Temp\\\\tess_71qhp8_l_out.box'",
     "output_type": "error",
     "traceback": [
      "\u001b[1;31m---------------------------------------------------------------------------\u001b[0m",
      "\u001b[1;31mFileNotFoundError\u001b[0m                         Traceback (most recent call last)",
      "\u001b[1;32m<ipython-input-7-46321181c0b8>\u001b[0m in \u001b[0;36m<module>\u001b[1;34m\u001b[0m\n\u001b[0;32m      5\u001b[0m \u001b[1;33m\u001b[0m\u001b[0m\n\u001b[0;32m      6\u001b[0m \u001b[0mh\u001b[0m\u001b[1;33m,\u001b[0m \u001b[0mw\u001b[0m\u001b[1;33m,\u001b[0m \u001b[0mc\u001b[0m \u001b[1;33m=\u001b[0m \u001b[0mimg\u001b[0m\u001b[1;33m.\u001b[0m\u001b[0mshape\u001b[0m\u001b[1;33m\u001b[0m\u001b[1;33m\u001b[0m\u001b[0m\n\u001b[1;32m----> 7\u001b[1;33m \u001b[0mboxes\u001b[0m \u001b[1;33m=\u001b[0m \u001b[0mpytesseract\u001b[0m\u001b[1;33m.\u001b[0m\u001b[0mimage_to_boxes\u001b[0m\u001b[1;33m(\u001b[0m\u001b[0mimg\u001b[0m\u001b[1;33m)\u001b[0m\u001b[1;33m\u001b[0m\u001b[1;33m\u001b[0m\u001b[0m\n\u001b[0m\u001b[0;32m      8\u001b[0m \u001b[1;32mfor\u001b[0m \u001b[0mb\u001b[0m \u001b[1;32min\u001b[0m \u001b[0mboxes\u001b[0m\u001b[1;33m.\u001b[0m\u001b[0msplitlines\u001b[0m\u001b[1;33m(\u001b[0m\u001b[1;33m)\u001b[0m\u001b[1;33m:\u001b[0m\u001b[1;33m\u001b[0m\u001b[1;33m\u001b[0m\u001b[0m\n\u001b[0;32m      9\u001b[0m     \u001b[0mb\u001b[0m \u001b[1;33m=\u001b[0m \u001b[0mb\u001b[0m\u001b[1;33m.\u001b[0m\u001b[0msplit\u001b[0m\u001b[1;33m(\u001b[0m\u001b[1;34m' '\u001b[0m\u001b[1;33m)\u001b[0m\u001b[1;33m\u001b[0m\u001b[1;33m\u001b[0m\u001b[0m\n",
      "\u001b[1;32mC:\\ProgramData\\Anaconda3\\envs\\myenv\\lib\\site-packages\\pytesseract\\pytesseract.py\u001b[0m in \u001b[0;36mimage_to_boxes\u001b[1;34m(image, lang, config, nice, output_type, timeout)\u001b[0m\n\u001b[0;32m    382\u001b[0m             0),\n\u001b[0;32m    383\u001b[0m         \u001b[0mOutput\u001b[0m\u001b[1;33m.\u001b[0m\u001b[0mSTRING\u001b[0m\u001b[1;33m:\u001b[0m \u001b[1;32mlambda\u001b[0m\u001b[1;33m:\u001b[0m \u001b[0mrun_and_get_output\u001b[0m\u001b[1;33m(\u001b[0m\u001b[1;33m*\u001b[0m\u001b[0margs\u001b[0m\u001b[1;33m)\u001b[0m\u001b[1;33m,\u001b[0m\u001b[1;33m\u001b[0m\u001b[1;33m\u001b[0m\u001b[0m\n\u001b[1;32m--> 384\u001b[1;33m     }[output_type]()\n\u001b[0m\u001b[0;32m    385\u001b[0m \u001b[1;33m\u001b[0m\u001b[0m\n\u001b[0;32m    386\u001b[0m \u001b[1;33m\u001b[0m\u001b[0m\n",
      "\u001b[1;32mC:\\ProgramData\\Anaconda3\\envs\\myenv\\lib\\site-packages\\pytesseract\\pytesseract.py\u001b[0m in \u001b[0;36m<lambda>\u001b[1;34m()\u001b[0m\n\u001b[0;32m    381\u001b[0m             \u001b[1;34m' '\u001b[0m\u001b[1;33m,\u001b[0m\u001b[1;33m\u001b[0m\u001b[1;33m\u001b[0m\u001b[0m\n\u001b[0;32m    382\u001b[0m             0),\n\u001b[1;32m--> 383\u001b[1;33m         \u001b[0mOutput\u001b[0m\u001b[1;33m.\u001b[0m\u001b[0mSTRING\u001b[0m\u001b[1;33m:\u001b[0m \u001b[1;32mlambda\u001b[0m\u001b[1;33m:\u001b[0m \u001b[0mrun_and_get_output\u001b[0m\u001b[1;33m(\u001b[0m\u001b[1;33m*\u001b[0m\u001b[0margs\u001b[0m\u001b[1;33m)\u001b[0m\u001b[1;33m,\u001b[0m\u001b[1;33m\u001b[0m\u001b[1;33m\u001b[0m\u001b[0m\n\u001b[0m\u001b[0;32m    384\u001b[0m     }[output_type]()\n\u001b[0;32m    385\u001b[0m \u001b[1;33m\u001b[0m\u001b[0m\n",
      "\u001b[1;32mC:\\ProgramData\\Anaconda3\\envs\\myenv\\lib\\site-packages\\pytesseract\\pytesseract.py\u001b[0m in \u001b[0;36mrun_and_get_output\u001b[1;34m(image, extension, lang, config, nice, timeout, return_bytes)\u001b[0m\n\u001b[0;32m    253\u001b[0m         \u001b[0mrun_tesseract\u001b[0m\u001b[1;33m(\u001b[0m\u001b[1;33m**\u001b[0m\u001b[0mkwargs\u001b[0m\u001b[1;33m)\u001b[0m\u001b[1;33m\u001b[0m\u001b[1;33m\u001b[0m\u001b[0m\n\u001b[0;32m    254\u001b[0m         \u001b[0mfilename\u001b[0m \u001b[1;33m=\u001b[0m \u001b[0mkwargs\u001b[0m\u001b[1;33m[\u001b[0m\u001b[1;34m'output_filename_base'\u001b[0m\u001b[1;33m]\u001b[0m \u001b[1;33m+\u001b[0m \u001b[0mos\u001b[0m\u001b[1;33m.\u001b[0m\u001b[0mextsep\u001b[0m \u001b[1;33m+\u001b[0m \u001b[0mextension\u001b[0m\u001b[1;33m\u001b[0m\u001b[1;33m\u001b[0m\u001b[0m\n\u001b[1;32m--> 255\u001b[1;33m         \u001b[1;32mwith\u001b[0m \u001b[0mopen\u001b[0m\u001b[1;33m(\u001b[0m\u001b[0mfilename\u001b[0m\u001b[1;33m,\u001b[0m \u001b[1;34m'rb'\u001b[0m\u001b[1;33m)\u001b[0m \u001b[1;32mas\u001b[0m \u001b[0moutput_file\u001b[0m\u001b[1;33m:\u001b[0m\u001b[1;33m\u001b[0m\u001b[1;33m\u001b[0m\u001b[0m\n\u001b[0m\u001b[0;32m    256\u001b[0m             \u001b[1;32mif\u001b[0m \u001b[0mreturn_bytes\u001b[0m\u001b[1;33m:\u001b[0m\u001b[1;33m\u001b[0m\u001b[1;33m\u001b[0m\u001b[0m\n\u001b[0;32m    257\u001b[0m                 \u001b[1;32mreturn\u001b[0m \u001b[0moutput_file\u001b[0m\u001b[1;33m.\u001b[0m\u001b[0mread\u001b[0m\u001b[1;33m(\u001b[0m\u001b[1;33m)\u001b[0m\u001b[1;33m\u001b[0m\u001b[1;33m\u001b[0m\u001b[0m\n",
      "\u001b[1;31mFileNotFoundError\u001b[0m: [Errno 2] No such file or directory: 'C:\\\\Users\\\\shash\\\\AppData\\\\Local\\\\Temp\\\\tess_71qhp8_l_out.box'"
     ]
    }
   ],
   "source": [
    "import cv2\n",
    "import pytesseract\n",
    "\n",
    "img = cv2.imread('C://Users/shash/Downloads/my_image1.jpeg')\n",
    "\n",
    "h, w, c = img.shape\n",
    "boxes = pytesseract.image_to_boxes(img) \n",
    "for b in boxes.splitlines():\n",
    "    b = b.split(' ')\n",
    "    img = cv2.rectangle(img, (int(b[1]), h - int(b[2])), (int(b[3]), h - int(b[4])), (0, 255, 0), 2)\n",
    "\n",
    "cv2.imshow('img', img)\n",
    "cv2.waitKey(0)\n"
   ]
  }
 ],
 "metadata": {
  "kernelspec": {
   "display_name": "Python 3",
   "language": "python",
   "name": "python3"
  },
  "language_info": {
   "codemirror_mode": {
    "name": "ipython",
    "version": 3
   },
   "file_extension": ".py",
   "mimetype": "text/x-python",
   "name": "python",
   "nbconvert_exporter": "python",
   "pygments_lexer": "ipython3",
   "version": "3.7.4"
  }
 },
 "nbformat": 4,
 "nbformat_minor": 2
}
